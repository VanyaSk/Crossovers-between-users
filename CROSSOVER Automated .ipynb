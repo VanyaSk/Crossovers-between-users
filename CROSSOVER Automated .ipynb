{
 "cells": [
  {
   "cell_type": "code",
   "execution_count": 1,
   "metadata": {},
   "outputs": [],
   "source": [
    "import pandas as pd\n",
    "import re\n",
    "import numpy as np"
   ]
  },
  {
   "cell_type": "code",
   "execution_count": 3,
   "metadata": {},
   "outputs": [],
   "source": [
    "babo_bot = pd.read_csv('C:\\\\Users\\\\iskorokhod\\\\Downloads\\\\Uniqueposters.csv')"
   ]
  },
  {
   "cell_type": "code",
   "execution_count": 4,
   "metadata": {},
   "outputs": [],
   "source": [
    "babyganics = pd.read_csv('C:\\\\Users\\\\iskorokhod\\\\Downloads\\\\Uniqueposters (1).csv')"
   ]
  },
  {
   "cell_type": "code",
   "execution_count": 5,
   "metadata": {},
   "outputs": [],
   "source": [
    "burts = pd.read_csv('C:\\\\Users\\\\iskorokhod\\\\Downloads\\\\Uniqueposters (2).csv')"
   ]
  },
  {
   "cell_type": "code",
   "execution_count": 6,
   "metadata": {},
   "outputs": [],
   "source": [
    "mustela = pd.read_csv('C:\\\\Users\\\\iskorokhod\\\\Downloads\\\\Uniqueposters (3).csv')"
   ]
  },
  {
   "cell_type": "code",
   "execution_count": 7,
   "metadata": {},
   "outputs": [],
   "source": [
    "honest = pd.read_csv('C:\\\\Users\\\\iskorokhod\\\\Downloads\\\\Uniqueposters (4).csv')"
   ]
  },
  {
   "cell_type": "code",
   "execution_count": 31,
   "metadata": {},
   "outputs": [],
   "source": [
    "accounts = {'babo_bot':babo_bot, 'babyganics':babyganics, 'burts':burts, 'mustela':mustela, 'honest':honest}"
   ]
  },
  {
   "cell_type": "code",
   "execution_count": 44,
   "metadata": {},
   "outputs": [
    {
     "name": "stdout",
     "output_type": "stream",
     "text": [
      "babo_bot - 491 users\n",
      "babyganics - 1934 users\n",
      "burts - 6000 users\n",
      "mustela - 4072 users\n",
      "honest - 8316 users\n"
     ]
    }
   ],
   "source": [
    "for acc, value in accounts.items():\n",
    "    print('{} - {} users'.format(acc, len(value)))"
   ]
  },
  {
   "cell_type": "code",
   "execution_count": 1,
   "metadata": {},
   "outputs": [
    {
     "ename": "NameError",
     "evalue": "name 'accounts' is not defined",
     "output_type": "error",
     "traceback": [
      "\u001b[1;31m---------------------------------------------------------------------------\u001b[0m",
      "\u001b[1;31mNameError\u001b[0m                                 Traceback (most recent call last)",
      "\u001b[1;32m<ipython-input-1-96a640c54035>\u001b[0m in \u001b[0;36m<module>\u001b[1;34m()\u001b[0m\n\u001b[0;32m      1\u001b[0m \u001b[1;31m#The same like we have above\u001b[0m\u001b[1;33m\u001b[0m\u001b[1;33m\u001b[0m\u001b[0m\n\u001b[1;32m----> 2\u001b[1;33m \u001b[1;32mfor\u001b[0m \u001b[0mbrand\u001b[0m \u001b[1;32min\u001b[0m \u001b[0mlist\u001b[0m\u001b[1;33m(\u001b[0m\u001b[0maccounts\u001b[0m\u001b[1;33m.\u001b[0m\u001b[0mkeys\u001b[0m\u001b[1;33m(\u001b[0m\u001b[1;33m)\u001b[0m\u001b[1;33m)\u001b[0m\u001b[1;33m:\u001b[0m\u001b[1;33m\u001b[0m\u001b[0m\n\u001b[0m\u001b[0;32m      3\u001b[0m     \u001b[1;32mfor\u001b[0m \u001b[0macc\u001b[0m \u001b[1;32min\u001b[0m \u001b[0mlist\u001b[0m\u001b[1;33m(\u001b[0m\u001b[0maccounts\u001b[0m\u001b[1;33m.\u001b[0m\u001b[0mkeys\u001b[0m\u001b[1;33m(\u001b[0m\u001b[1;33m)\u001b[0m\u001b[1;33m)\u001b[0m\u001b[1;33m:\u001b[0m\u001b[1;33m\u001b[0m\u001b[0m\n\u001b[0;32m      4\u001b[0m         \u001b[0mcrossover\u001b[0m \u001b[1;33m=\u001b[0m \u001b[1;33m[\u001b[0m\u001b[1;33m]\u001b[0m\u001b[1;33m\u001b[0m\u001b[0m\n\u001b[0;32m      5\u001b[0m         \u001b[0mcrossover\u001b[0m \u001b[1;33m=\u001b[0m \u001b[1;33m[\u001b[0m\u001b[0mname\u001b[0m \u001b[1;32mfor\u001b[0m \u001b[0mname\u001b[0m \u001b[1;32min\u001b[0m \u001b[0mlist\u001b[0m\u001b[1;33m(\u001b[0m\u001b[0maccounts\u001b[0m\u001b[1;33m[\u001b[0m\u001b[0mbrand\u001b[0m\u001b[1;33m]\u001b[0m\u001b[1;33m[\u001b[0m\u001b[1;34m'username'\u001b[0m\u001b[1;33m]\u001b[0m\u001b[1;33m)\u001b[0m \u001b[1;32mif\u001b[0m \u001b[0mname\u001b[0m \u001b[1;32min\u001b[0m \u001b[0mlist\u001b[0m\u001b[1;33m(\u001b[0m\u001b[0maccounts\u001b[0m\u001b[1;33m[\u001b[0m\u001b[0macc\u001b[0m\u001b[1;33m]\u001b[0m\u001b[1;33m[\u001b[0m\u001b[1;34m'username'\u001b[0m\u001b[1;33m]\u001b[0m\u001b[1;33m)\u001b[0m\u001b[1;33m]\u001b[0m\u001b[1;33m\u001b[0m\u001b[0m\n",
      "\u001b[1;31mNameError\u001b[0m: name 'accounts' is not defined"
     ]
    }
   ],
   "source": [
    "for brand in list(accounts.keys()):\n",
    "    print('\\n{} '.format(brand.upper()))\n",
    "    for acc in list(accounts.keys()):\n",
    "        crossover = []\n",
    "        crossover = [name for name in list(accounts[brand]['username']) if name in list(accounts[acc]['username'])]\n",
    "        print('-{} has {} users'.format(acc, len(crossover)))   "
   ]
  },
  {
   "cell_type": "code",
   "execution_count": 75,
   "metadata": {},
   "outputs": [
    {
     "name": "stdout",
     "output_type": "stream",
     "text": [
      "babo_bot-babo_bot crossover has 491 users\n",
      "babo_bot-babyganics crossover has 31 users\n",
      "babo_bot-burts crossover has 27 users\n",
      "babo_bot-mustela crossover has 7 users\n",
      "babo_bot-honest crossover has 35 users\n",
      "babyganics-babo_bot crossover has 31 users\n",
      "babyganics-babyganics crossover has 1934 users\n",
      "babyganics-burts crossover has 101 users\n",
      "babyganics-mustela crossover has 72 users\n",
      "babyganics-honest crossover has 215 users\n",
      "burts-babo_bot crossover has 27 users\n",
      "burts-babyganics crossover has 101 users\n",
      "burts-burts crossover has 6000 users\n",
      "burts-mustela crossover has 37 users\n",
      "burts-honest crossover has 458 users\n",
      "mustela-babo_bot crossover has 7 users\n",
      "mustela-babyganics crossover has 72 users\n",
      "mustela-burts crossover has 37 users\n",
      "mustela-mustela crossover has 4072 users\n",
      "mustela-honest crossover has 31 users\n",
      "honest-babo_bot crossover has 35 users\n",
      "honest-babyganics crossover has 215 users\n",
      "honest-burts crossover has 458 users\n",
      "honest-mustela crossover has 31 users\n",
      "honest-honest crossover has 8316 users\n"
     ]
    }
   ],
   "source": [
    "#The same like we have above but with more loops and steps\n",
    "'''for brand in brands:\n",
    "    for acc in list(accounts.keys()):\n",
    "        crossover = []\n",
    "        for name in list(accounts[brand]['username']):\n",
    "            if name in list(accounts[acc]['username']):\n",
    "                crossover.append(name)\n",
    "        print('{}-{} crossover has {} users'.format(brand, acc, len(crossover)))'''"
   ]
  },
  {
   "cell_type": "code",
   "execution_count": 20,
   "metadata": {},
   "outputs": [
    {
     "data": {
      "text/plain": [
       "1355"
      ]
     },
     "execution_count": 20,
     "metadata": {},
     "output_type": "execute_result"
    }
   ],
   "source": [
    "clarins_crossover = []\n",
    "for name in list(clarins['username']):\n",
    "    if name in list(sisley['username']):\n",
    "        clarins_crossover.append(name)\n",
    "len(clarins_crossover)"
   ]
  },
  {
   "cell_type": "code",
   "execution_count": 30,
   "metadata": {},
   "outputs": [
    {
     "data": {
      "text/plain": [
       "62"
      ]
     },
     "execution_count": 30,
     "metadata": {},
     "output_type": "execute_result"
    }
   ],
   "source": [
    "murad_crossover = []\n",
    "for name in list(murad['username']):\n",
    "    if name in list(sisley['username']):\n",
    "        murad_crossover.append(name)\n",
    "len(murad_crossover)"
   ]
  },
  {
   "cell_type": "code",
   "execution_count": 15,
   "metadata": {},
   "outputs": [
    {
     "data": {
      "text/plain": [
       "399"
      ]
     },
     "execution_count": 15,
     "metadata": {},
     "output_type": "execute_result"
    }
   ],
   "source": [
    "kamri_crossover = []\n",
    "for name in list(kamri['username']):\n",
    "    if name in list(bb['username']):\n",
    "        kamri_crossover.append(name)\n",
    "len(kamri_crossover)"
   ]
  },
  {
   "cell_type": "code",
   "execution_count": 16,
   "metadata": {},
   "outputs": [
    {
     "data": {
      "text/plain": [
       "255"
      ]
     },
     "execution_count": 16,
     "metadata": {},
     "output_type": "execute_result"
    }
   ],
   "source": [
    "bb_crossover = []\n",
    "for name in list(bb['username']):\n",
    "    if name in list(rylan['username']):\n",
    "        bb_crossover.append(name)\n",
    "len(bb_crossover)"
   ]
  },
  {
   "cell_type": "code",
   "execution_count": 7,
   "metadata": {},
   "outputs": [],
   "source": [
    "brands = list(df['Brand'])"
   ]
  },
  {
   "cell_type": "code",
   "execution_count": 9,
   "metadata": {},
   "outputs": [],
   "source": [
    "brands = brands[::]"
   ]
  },
  {
   "cell_type": "code",
   "execution_count": 10,
   "metadata": {},
   "outputs": [
    {
     "data": {
      "text/plain": [
       "['Abierta',\n",
       " 'Acmedica',\n",
       " 'Acne Barrier',\n",
       " 'Addiction',\n",
       " 'Adsorb',\n",
       " 'Aiai Medical',\n",
       " 'Akairo Otoha',\n",
       " 'Akaran',\n",
       " 'Akasuri-ya',\n",
       " 'Albion',\n",
       " 'Alovivi',\n",
       " 'Amber',\n",
       " 'Ampleur',\n",
       " 'Anessa',\n",
       " 'Ansage',\n",
       " 'Antenoble',\n",
       " 'Aphrodinus',\n",
       " 'Aqua Savon',\n",
       " 'Aqua Symmetry',\n",
       " 'Aquatique Md',\n",
       " 'Ardor Brain',\n",
       " 'Argan Essence',\n",
       " 'Argan Labo',\n",
       " 'Argital',\n",
       " 'Amritara',\n",
       " 'Aro.',\n",
       " 'Argelan',\n",
       " 'Aroma Holic',\n",
       " 'Ashiya Trading',\n",
       " 'Asty Cosmefreak',\n",
       " 'Atrix',\n",
       " 'Awake',\n",
       " 'Ayura',\n",
       " 'Baby Pink',\n",
       " 'Bb Laboratories',\n",
       " 'Be Veil',\n",
       " 'Beaute De Sae',\n",
       " 'Beautelligence',\n",
       " 'Beautiful Skin',\n",
       " 'Becoz',\n",
       " 'Bee Honey',\n",
       " 'Bifesta',\n",
       " 'Bihada Nikki',\n",
       " 'Bioré',\n",
       " 'Biyou Bunkasha',\n",
       " 'Black Paint',\n",
       " 'Blancneige',\n",
       " 'botanist',\n",
       " 'Brain Cosmos',\n",
       " 'Bvo',\n",
       " 'C Blanc',\n",
       " 'Canmake',\n",
       " 'Celistina Gekka',\n",
       " 'Chant A Charm',\n",
       " 'Cherien',\n",
       " 'Chidoriya',\n",
       " 'Chifure',\n",
       " 'Chizuby',\n",
       " 'Chojyu',\n",
       " 'Chuna',\n",
       " 'Cleansing Research',\n",
       " 'Clear Turn',\n",
       " 'Cleargino',\n",
       " 'Club (Airy Touch Day Essence )',\n",
       " 'Coenrichq10',\n",
       " 'Considermal',\n",
       " 'Coo Skin Refining',\n",
       " 'Cotton Labo',\n",
       " 'Covermark',\n",
       " 'Cow Brand',\n",
       " 'Crefort',\n",
       " 'Cure Natural',\n",
       " 'Curel',\n",
       " 'DAMDAM',\n",
       " 'D Program (Allerbarrier Mist )',\n",
       " 'D.U.O.',\n",
       " 'Daito Suisan',\n",
       " 'Decencia',\n",
       " 'Deesse',\n",
       " 'Derizum',\n",
       " 'DHC',\n",
       " 'Dinomen',\n",
       " 'Dnaclair',\n",
       " 'Do Organic',\n",
       " 'Doctor K',\n",
       " 'Doctor Line',\n",
       " 'Dot Free',\n",
       " 'Dr.Baeltz',\n",
       " 'Eaude Muge',\n",
       " 'Eda Natura',\n",
       " 'Elixir ',\n",
       " 'Episteme',\n",
       " 'Eporashe',\n",
       " 'Erbaviva',\n",
       " 'Esthe21',\n",
       " 'Esthedew',\n",
       " 'Etbella',\n",
       " 'Eternity By C',\n",
       " 'Ettusais',\n",
       " 'Etvos',\n",
       " 'Euglena',\n",
       " 'Evangelist',\n",
       " 'Everish',\n",
       " 'Evermere',\n",
       " 'Evita',\n",
       " 'Ex:Beaute',\n",
       " 'F Organic',\n",
       " 'Face& Tokyo',\n",
       " 'Fancl',\n",
       " 'Faran',\n",
       " 'Faz',\n",
       " 'Fernanda',\n",
       " 'Fit Land',\n",
       " 'Flow Fushi',\n",
       " 'Fontesanta',\n",
       " 'Foot-medi',\n",
       " 'For My Darling',\n",
       " 'Fresca',\n",
       " 'Freshel',\n",
       " 'Fu-u',\n",
       " 'Gaia Np',\n",
       " 'Gamila Secret',\n",
       " 'Geomar',\n",
       " 'Ginza Image',\n",
       " 'Girls Be Ambitious',\n",
       " 'Glamorous Body',\n",
       " 'Gockel',\n",
       " 'God Salon',\n",
       " 'Grace 4 Care',\n",
       " 'Grisperle',\n",
       " 'Haba',\n",
       " 'Hadabisei',\n",
       " 'Hahonico Happy Life',\n",
       " 'Haku',\n",
       " 'HANA Organic',\n",
       " 'Hanapirka',\n",
       " 'Hela Luno Gold',\n",
       " 'Hello Kitty',\n",
       " 'Helsinki Formula',\n",
       " 'Herbery Earth',\n",
       " 'Herbfarmacy',\n",
       " 'Hin Acnes Labo',\n",
       " 'House Of Rose',\n",
       " 'Hyalogy',\n",
       " 'Hyalu Millefeuille',\n",
       " 'Iau Serum',\n",
       " 'Ignis',\n",
       " 'Ihada',\n",
       " 'Imiy',\n",
       " 'In Aroma',\n",
       " 'Infinstoria',\n",
       " 'Integrate',\n",
       " 'Interface',\n",
       " 'Intima',\n",
       " 'Intime Organique (Le Bois)',\n",
       " 'Ipsa',\n",
       " 'Ishizawa Laboratories',\n",
       " 'Itten Cosme',\n",
       " 'Gals',\n",
       " 'Joyful Garden',\n",
       " 'Juju',\n",
       " 'Jumagic',\n",
       " 'Kanebo',\n",
       " 'Kankitsu Ouji',\n",
       " 'Kamitsuren',\n",
       " 'Kao',\n",
       " 'Katwra',\n",
       " 'Keana Nadeshiko',\n",
       " 'Kehai',\n",
       " 'Kenkou Corporation',\n",
       " 'Kodiake',\n",
       " 'Koh Gen Do',\n",
       " 'Kokuryudo',\n",
       " 'Kouji Hada',\n",
       " 'Kowa',\n",
       " 'Kuni Corporation Luli',\n",
       " 'Kuramoto Bijin',\n",
       " 'La Mente',\n",
       " 'Lasana',\n",
       " 'Leaf＆botanics',\n",
       " 'Leaffresh',\n",
       " 'Les Anges',\n",
       " 'Leviona Jun',\n",
       " 'Liftarna',\n",
       " 'Lips And Hips',\n",
       " 'Lissage',\n",
       " 'LITS',\n",
       " 'Locobase',\n",
       " 'Love&Peace Parfum',\n",
       " 'Lululun',\n",
       " 'Lunasol',\n",
       " 'Macchialabel',\n",
       " 'Maihada',\n",
       " 'Makanai',\n",
       " 'Mainichi Bihada',\n",
       " 'Mama Butter',\n",
       " 'Mama Chapo',\n",
       " 'Mama-labo',\n",
       " 'Manara',\n",
       " 'Maro',\n",
       " 'Matsuyama',\n",
       " 'Medeep',\n",
       " 'Medel',\n",
       " 'Megumi No Honpo',\n",
       " 'Meishoku Cosmetics',\n",
       " 'Melano',\n",
       " 'Mellsavon',\n",
       " 'Menard',\n",
       " 'Menturm',\n",
       " 'Miccosmo',\n",
       " 'Michelle Bio',\n",
       " 'Micwelva',\n",
       " 'Milk Gelee',\n",
       " 'Milk Soap',\n",
       " 'Mineral Line',\n",
       " 'Minon Amino Moist',\n",
       " 'Misn',\n",
       " 'Mitsuwa Soap',\n",
       " 'Mizuhashi Hojyudo Pharmaceutical',\n",
       " 'Mizunotenshi',\n",
       " 'Mmm',\n",
       " 'Mochitto',\n",
       " 'Moibeaute',\n",
       " 'Mommy',\n",
       " 'Moonyu',\n",
       " 'Mugwort Bath Essence',\n",
       " 'Muji',\n",
       " 'Munimayu',\n",
       " 'Munoage',\n",
       " 'Musashino Pharmaceutical',\n",
       " 'Mvne',\n",
       " 'Namerakahonpo',\n",
       " 'Natural Laboratories',\n",
       " 'naturaglace',\n",
       " 'Natureine',\n",
       " 'Naturie',\n",
       " \"Ne'kur\",\n",
       " 'Neba Jyuku',\n",
       " 'Nerolila Botanica',\n",
       " 'No-mu-ba-ra',\n",
       " 'Nudy Chew',\n",
       " 'Nursery',\n",
       " 'Nursy Care',\n",
       " 'Obagi',\n",
       " 'Oh! Baby',\n",
       " 'Ohana Mahaalo',\n",
       " 'Oisesan',\n",
       " 'Oketani',\n",
       " 'One By Kosé',\n",
       " 'Onkatsu Jyosikai Produce',\n",
       " 'Hollywod Cosmetics',\n",
       " 'Orp Tokyo',\n",
       " 'Oshionomegumi',\n",
       " 'Oyumonogatari',\n",
       " 'Palau White',\n",
       " 'Papawash Beaute',\n",
       " 'Pax Naturon',\n",
       " 'Pax Olie',\n",
       " 'Pc Repair',\n",
       " 'Peace Labo                                                                                                                                                                                        ',\n",
       " 'Pelican Soap',\n",
       " 'Penelopi Moon',\n",
       " 'Pesca',\n",
       " 'Phil Naturnt',\n",
       " 'Pico donna',\n",
       " 'Plante System(2way World)',\n",
       " 'Pola',\n",
       " 'Poreless Labo',\n",
       " 'Power Essence',\n",
       " 'Precious Garden',\n",
       " 'Premium Puresa',\n",
       " 'Premium Peel',\n",
       " 'Profael',\n",
       " 'Proudmen',\n",
       " 'Pukku Puku',\n",
       " 'Quality First',\n",
       " 'Quras',\n",
       " 'Rafra',\n",
       " 'Re-cept Skin',\n",
       " \"Re'au\",\n",
       " 'Recipist',\n",
       " 'Reena',\n",
       " 'Regene',\n",
       " 'Reruju',\n",
       " 'Restgenol Preluder',\n",
       " 'Rice Force',\n",
       " 'Ricenal',\n",
       " 'Ririse',\n",
       " 'Rohto',\n",
       " 'Rose Of Heaven',\n",
       " 'Rosette',\n",
       " 'Ruam Ruam',\n",
       " 'Ruhaku',\n",
       " 'Samourai Woman',\n",
       " 'Santa Marche',\n",
       " 'Suppin Essentials',\n",
       " 'Scent Of Varo',\n",
       " 'Scos',\n",
       " 'Searun',\n",
       " 'Segreta',\n",
       " 'Seiiti Kanai',\n",
       " 'Sekkisei',\n",
       " 'Sensai',\n",
       " 'Serumdew',\n",
       " 'Seven Break',\n",
       " 'Seven Flow',\n",
       " 'Shahram Mesri.',\n",
       " 'Shigaisen Yoho',\n",
       " 'Shigeta',\n",
       " 'Shikisai',\n",
       " 'Shikon',\n",
       " 'Shin Factory',\n",
       " 'Sibody',\n",
       " 'Shiseido',\n",
       " 'Shu Uemura',\n",
       " 'Shuteki Joshi',\n",
       " 'Siancess',\n",
       " 'Sinn Purete',\n",
       " 'SK-II',\n",
       " 'Skin Aqua',\n",
       " 'Skinpeace',\n",
       " 'SNOWskincare ',\n",
       " 'Sofina',\n",
       " 'Softymo',\n",
       " 'Sonbahyu',\n",
       " 'Sqs',\n",
       " 'Sucrevely',\n",
       " 'Suhada Recipe',\n",
       " 'Suhadaka',\n",
       " 'Suisai',\n",
       " 'Sumi Haigou Settuken',\n",
       " 'Sun Killer',\n",
       " 'Sun Nahoru',\n",
       " 'Sun White',\n",
       " 'Sunaturals',\n",
       " 'Sunking',\n",
       " 'Sunsorit',\n",
       " 'Shiro',\n",
       " 'Suqqu',\n",
       " 'Tatcha',\n",
       " 'Takami',\n",
       " 'Taiyou No Aloe',\n",
       " 'Terracuore',\n",
       " 'Terracuore Note',\n",
       " 'The Cure',\n",
       " 'Tiless',\n",
       " 'Tokiwa Shoukai',\n",
       " 'Tomo Corporation',\n",
       " 'Tonoike Shuzouten',\n",
       " 'Transderma',\n",
       " 'Transino',\n",
       " 'Trinityline',\n",
       " 'Tsubaki nano',\n",
       " 'Tsuda ',\n",
       " 'Twany',\n",
       " 'To/One',\n",
       " 'Three',\n",
       " 'Utena',\n",
       " 'Uv Hunter',\n",
       " 'Uzukyumeigan Healthcare',\n",
       " 'Vecua Honey',\n",
       " 'Vecua Spa',\n",
       " 'Vegeboy',\n",
       " 'Venus Lab',\n",
       " 'Versenor ',\n",
       " 'Vie Eau',\n",
       " 'Vina Rature',\n",
       " 'Vivant Joie',\n",
       " 'Wabio',\n",
       " 'Wakilala ',\n",
       " 'Xiva',\n",
       " 'Ya-man',\n",
       " 'Yamahira',\n",
       " 'Yuskin',\n",
       " 'Yuze',\n",
       " 'Zoocos.Tokyo']"
      ]
     },
     "execution_count": 10,
     "metadata": {},
     "output_type": "execute_result"
    }
   ],
   "source": [
    "brands"
   ]
  },
  {
   "cell_type": "code",
   "execution_count": 6,
   "metadata": {},
   "outputs": [],
   "source": [
    "df1 = df[df.index<100]"
   ]
  },
  {
   "cell_type": "markdown",
   "metadata": {},
   "source": [
    "df1.head("
   ]
  },
  {
   "cell_type": "code",
   "execution_count": 8,
   "metadata": {},
   "outputs": [
    {
     "data": {
      "text/plain": [
       "100"
      ]
     },
     "execution_count": 8,
     "metadata": {},
     "output_type": "execute_result"
    }
   ],
   "source": [
    "len(df1.index)"
   ]
  },
  {
   "cell_type": "code",
   "execution_count": 17,
   "metadata": {},
   "outputs": [
    {
     "name": "stderr",
     "output_type": "stream",
     "text": [
      "b'Skipping line 4521: expected 6 fields, saw 9\\nSkipping line 8980: expected 6 fields, saw 10\\nSkipping line 8981: expected 6 fields, saw 10\\nSkipping line 9133: expected 6 fields, saw 12\\nSkipping line 12039: expected 6 fields, saw 9\\nSkipping line 13960: expected 6 fields, saw 7\\nSkipping line 16330: expected 6 fields, saw 13\\nSkipping line 16346: expected 6 fields, saw 13\\nSkipping line 16362: expected 6 fields, saw 13\\nSkipping line 29633: expected 6 fields, saw 13\\nSkipping line 33172: expected 6 fields, saw 8\\nSkipping line 34812: expected 6 fields, saw 10\\nSkipping line 34815: expected 6 fields, saw 8\\nSkipping line 36122: expected 6 fields, saw 9\\nSkipping line 36148: expected 6 fields, saw 9\\nSkipping line 36575: expected 6 fields, saw 8\\n'\n"
     ]
    }
   ],
   "source": [
    "df_result = pd.read_csv('C:\\\\Users\\\\iskorokhod\\\\Downloads\\\\TOP50jBrands_result.csv', error_bad_lines=False)"
   ]
  },
  {
   "cell_type": "code",
   "execution_count": 19,
   "metadata": {},
   "outputs": [
    {
     "data": {
      "text/html": [
       "<div>\n",
       "<style scoped>\n",
       "    .dataframe tbody tr th:only-of-type {\n",
       "        vertical-align: middle;\n",
       "    }\n",
       "\n",
       "    .dataframe tbody tr th {\n",
       "        vertical-align: top;\n",
       "    }\n",
       "\n",
       "    .dataframe thead th {\n",
       "        text-align: right;\n",
       "    }\n",
       "</style>\n",
       "<table border=\"1\" class=\"dataframe\">\n",
       "  <thead>\n",
       "    <tr style=\"text-align: right;\">\n",
       "      <th></th>\n",
       "      <th>id</th>\n",
       "      <th>brand</th>\n",
       "      <th>caption</th>\n",
       "      <th>link</th>\n",
       "      <th>Sentiment</th>\n",
       "      <th>Confidence</th>\n",
       "    </tr>\n",
       "  </thead>\n",
       "  <tbody>\n",
       "    <tr>\n",
       "      <th>0</th>\n",
       "      <td>1509279285565718528</td>\n",
       "      <td>Menard</td>\n",
       "      <td>GW最終日！皆さまいかがお過ごしでしょうか？☺️\\r\\nお出かけなどで日焼けされた方も多いの...</td>\n",
       "      <td>https://www.instagram.com/p/BTyCYODAAAE/</td>\n",
       "      <td>pos</td>\n",
       "      <td>0.9492805</td>\n",
       "    </tr>\n",
       "    <tr>\n",
       "      <th>1</th>\n",
       "      <td>1568224910721941504</td>\n",
       "      <td>Quality First</td>\n",
       "      <td>よーやく買えた #美的 😭\\r\\nふろくのブラシ、ほんとにスポンジみたいな密度でびっくり！あ...</td>\n",
       "      <td>https://www.instagram.com/p/BXDdD9bgAAK/</td>\n",
       "      <td>neg</td>\n",
       "      <td>0.71198158</td>\n",
       "    </tr>\n",
       "    <tr>\n",
       "      <th>2</th>\n",
       "      <td>1817867773741629440</td>\n",
       "      <td>Bioré</td>\n",
       "      <td>.\\r\\n#Biore の#マシュマロホイップ やっと抜けれた〜😢💕\\r\\n.\\r\\nこれめ...</td>\n",
       "      <td>https://www.instagram.com/p/Bk6XRvWgAAM/</td>\n",
       "      <td>pos</td>\n",
       "      <td>0.58024835</td>\n",
       "    </tr>\n",
       "    <tr>\n",
       "      <th>3</th>\n",
       "      <td>1759986542421475328</td>\n",
       "      <td>To/One</td>\n",
       "      <td>.\\r\\n淡いランプの月光に照らされて、傍の水晶からの浄化の空気に触れながら、夜YOSA満喫...</td>\n",
       "      <td>NaN</td>\n",
       "      <td>NaN</td>\n",
       "      <td>NaN</td>\n",
       "    </tr>\n",
       "    <tr>\n",
       "      <th>4</th>\n",
       "      <td>ハッピーちゃんの詳細はブログにリンクしておりますので、ご興味ある方はこの機会に是非ごらんください🛁</td>\n",
       "      <td>NaN</td>\n",
       "      <td>NaN</td>\n",
       "      <td>NaN</td>\n",
       "      <td>NaN</td>\n",
       "      <td>NaN</td>\n",
       "    </tr>\n",
       "    <tr>\n",
       "      <th>5</th>\n",
       "      <td>.</td>\n",
       "      <td>NaN</td>\n",
       "      <td>NaN</td>\n",
       "      <td>NaN</td>\n",
       "      <td>NaN</td>\n",
       "      <td>NaN</td>\n",
       "    </tr>\n",
       "    <tr>\n",
       "      <th>6</th>\n",
       "      <td>YOSAはこんな方にオススメ！</td>\n",
       "      <td>NaN</td>\n",
       "      <td>NaN</td>\n",
       "      <td>NaN</td>\n",
       "      <td>NaN</td>\n",
       "      <td>NaN</td>\n",
       "    </tr>\n",
       "    <tr>\n",
       "      <th>7</th>\n",
       "      <td>☑︎食事量は変わらないのに体重が増える</td>\n",
       "      <td>NaN</td>\n",
       "      <td>NaN</td>\n",
       "      <td>NaN</td>\n",
       "      <td>NaN</td>\n",
       "      <td>NaN</td>\n",
       "    </tr>\n",
       "    <tr>\n",
       "      <th>8</th>\n",
       "      <td>☑︎手足が冷える</td>\n",
       "      <td>NaN</td>\n",
       "      <td>NaN</td>\n",
       "      <td>NaN</td>\n",
       "      <td>NaN</td>\n",
       "      <td>NaN</td>\n",
       "    </tr>\n",
       "    <tr>\n",
       "      <th>9</th>\n",
       "      <td>☑︎とにかく肩コリがひどい</td>\n",
       "      <td>NaN</td>\n",
       "      <td>NaN</td>\n",
       "      <td>NaN</td>\n",
       "      <td>NaN</td>\n",
       "      <td>NaN</td>\n",
       "    </tr>\n",
       "    <tr>\n",
       "      <th>10</th>\n",
       "      <td>☑︎むくみが気になる</td>\n",
       "      <td>NaN</td>\n",
       "      <td>NaN</td>\n",
       "      <td>NaN</td>\n",
       "      <td>NaN</td>\n",
       "      <td>NaN</td>\n",
       "    </tr>\n",
       "    <tr>\n",
       "      <th>11</th>\n",
       "      <td>☑︎女性ならではの悩みがある</td>\n",
       "      <td>NaN</td>\n",
       "      <td>NaN</td>\n",
       "      <td>NaN</td>\n",
       "      <td>NaN</td>\n",
       "      <td>NaN</td>\n",
       "    </tr>\n",
       "    <tr>\n",
       "      <th>12</th>\n",
       "      <td>☑︎シミ・シワ・たるみが気になる</td>\n",
       "      <td>NaN</td>\n",
       "      <td>NaN</td>\n",
       "      <td>NaN</td>\n",
       "      <td>NaN</td>\n",
       "      <td>NaN</td>\n",
       "    </tr>\n",
       "    <tr>\n",
       "      <th>13</th>\n",
       "      <td>☑︎疲れが取れない</td>\n",
       "      <td>NaN</td>\n",
       "      <td>NaN</td>\n",
       "      <td>NaN</td>\n",
       "      <td>NaN</td>\n",
       "      <td>NaN</td>\n",
       "    </tr>\n",
       "    <tr>\n",
       "      <th>14</th>\n",
       "      <td>.</td>\n",
       "      <td>NaN</td>\n",
       "      <td>NaN</td>\n",
       "      <td>NaN</td>\n",
       "      <td>NaN</td>\n",
       "      <td>NaN</td>\n",
       "    </tr>\n",
       "    <tr>\n",
       "      <th>15</th>\n",
       "      <td>YOSA PARK Luna</td>\n",
       "      <td>NaN</td>\n",
       "      <td>NaN</td>\n",
       "      <td>NaN</td>\n",
       "      <td>NaN</td>\n",
       "      <td>NaN</td>\n",
       "    </tr>\n",
       "    <tr>\n",
       "      <th>16</th>\n",
       "      <td>北九州市小倉南区志徳二丁目</td>\n",
       "      <td>NaN</td>\n",
       "      <td>NaN</td>\n",
       "      <td>NaN</td>\n",
       "      <td>NaN</td>\n",
       "      <td>NaN</td>\n",
       "    </tr>\n",
       "    <tr>\n",
       "      <th>17</th>\n",
       "      <td>営業時間…10時〜21時</td>\n",
       "      <td>NaN</td>\n",
       "      <td>NaN</td>\n",
       "      <td>NaN</td>\n",
       "      <td>NaN</td>\n",
       "      <td>NaN</td>\n",
       "    </tr>\n",
       "    <tr>\n",
       "      <th>18</th>\n",
       "      <td>不定期営業のため、お手数ですがお問い合わせください。</td>\n",
       "      <td>NaN</td>\n",
       "      <td>NaN</td>\n",
       "      <td>NaN</td>\n",
       "      <td>NaN</td>\n",
       "      <td>NaN</td>\n",
       "    </tr>\n",
       "    <tr>\n",
       "      <th>19</th>\n",
       "      <td>（最終予約受付20:00、時間外応相談）</td>\n",
       "      <td>NaN</td>\n",
       "      <td>NaN</td>\n",
       "      <td>NaN</td>\n",
       "      <td>NaN</td>\n",
       "      <td>NaN</td>\n",
       "    </tr>\n",
       "  </tbody>\n",
       "</table>\n",
       "</div>"
      ],
      "text/plain": [
       "                                                   id          brand  \\\n",
       "0                                 1509279285565718528         Menard   \n",
       "1                                 1568224910721941504  Quality First   \n",
       "2                                 1817867773741629440          Bioré   \n",
       "3                                 1759986542421475328         To/One   \n",
       "4   ハッピーちゃんの詳細はブログにリンクしておりますので、ご興味ある方はこの機会に是非ごらんください🛁            NaN   \n",
       "5                                                   .            NaN   \n",
       "6                                     YOSAはこんな方にオススメ！            NaN   \n",
       "7                                 ☑︎食事量は変わらないのに体重が増える            NaN   \n",
       "8                                            ☑︎手足が冷える            NaN   \n",
       "9                                       ☑︎とにかく肩コリがひどい            NaN   \n",
       "10                                         ☑︎むくみが気になる            NaN   \n",
       "11                                     ☑︎女性ならではの悩みがある            NaN   \n",
       "12                                   ☑︎シミ・シワ・たるみが気になる            NaN   \n",
       "13                                          ☑︎疲れが取れない            NaN   \n",
       "14                                                  .            NaN   \n",
       "15                                     YOSA PARK Luna            NaN   \n",
       "16                                      北九州市小倉南区志徳二丁目            NaN   \n",
       "17                                       営業時間…10時〜21時            NaN   \n",
       "18                         不定期営業のため、お手数ですがお問い合わせください。            NaN   \n",
       "19                               （最終予約受付20:00、時間外応相談）            NaN   \n",
       "\n",
       "                                              caption  \\\n",
       "0   GW最終日！皆さまいかがお過ごしでしょうか？☺️\\r\\nお出かけなどで日焼けされた方も多いの...   \n",
       "1   よーやく買えた #美的 😭\\r\\nふろくのブラシ、ほんとにスポンジみたいな密度でびっくり！あ...   \n",
       "2   .\\r\\n#Biore の#マシュマロホイップ やっと抜けれた〜😢💕\\r\\n.\\r\\nこれめ...   \n",
       "3   .\\r\\n淡いランプの月光に照らされて、傍の水晶からの浄化の空気に触れながら、夜YOSA満喫...   \n",
       "4                                                 NaN   \n",
       "5                                                 NaN   \n",
       "6                                                 NaN   \n",
       "7                                                 NaN   \n",
       "8                                                 NaN   \n",
       "9                                                 NaN   \n",
       "10                                                NaN   \n",
       "11                                                NaN   \n",
       "12                                                NaN   \n",
       "13                                                NaN   \n",
       "14                                                NaN   \n",
       "15                                                NaN   \n",
       "16                                                NaN   \n",
       "17                                                NaN   \n",
       "18                                                NaN   \n",
       "19                                                NaN   \n",
       "\n",
       "                                        link Sentiment  Confidence  \n",
       "0   https://www.instagram.com/p/BTyCYODAAAE/       pos   0.9492805  \n",
       "1   https://www.instagram.com/p/BXDdD9bgAAK/       neg  0.71198158  \n",
       "2   https://www.instagram.com/p/Bk6XRvWgAAM/       pos  0.58024835  \n",
       "3                                        NaN       NaN         NaN  \n",
       "4                                        NaN       NaN         NaN  \n",
       "5                                        NaN       NaN         NaN  \n",
       "6                                        NaN       NaN         NaN  \n",
       "7                                        NaN       NaN         NaN  \n",
       "8                                        NaN       NaN         NaN  \n",
       "9                                        NaN       NaN         NaN  \n",
       "10                                       NaN       NaN         NaN  \n",
       "11                                       NaN       NaN         NaN  \n",
       "12                                       NaN       NaN         NaN  \n",
       "13                                       NaN       NaN         NaN  \n",
       "14                                       NaN       NaN         NaN  \n",
       "15                                       NaN       NaN         NaN  \n",
       "16                                       NaN       NaN         NaN  \n",
       "17                                       NaN       NaN         NaN  \n",
       "18                                       NaN       NaN         NaN  \n",
       "19                                       NaN       NaN         NaN  "
      ]
     },
     "execution_count": 19,
     "metadata": {},
     "output_type": "execute_result"
    }
   ],
   "source": [
    "df_result.head(20)"
   ]
  },
  {
   "cell_type": "code",
   "execution_count": 9,
   "metadata": {},
   "outputs": [],
   "source": [
    "df1.to_csv(\"Sample.csv\", index = False)"
   ]
  },
  {
   "cell_type": "code",
   "execution_count": 9,
   "metadata": {},
   "outputs": [
    {
     "data": {
      "text/plain": [
       "Index(['id', 'caption', 'comments', 'date', 'hashtags', 'image_url', 'likes',\n",
       "       'link', 'location', 'media_type', 'mentioned_users', 'owner',\n",
       "       'shortcode', 'sponsor_users', 'video_views', 'bio', 'followers',\n",
       "       'follows', 'full_name', 'posts_amount', 'profile_pic', 'profile_url',\n",
       "       'username', 'website', 'latitude', 'longitude', 'name', 'slug'],\n",
       "      dtype='object')"
      ]
     },
     "execution_count": 9,
     "metadata": {},
     "output_type": "execute_result"
    }
   ],
   "source": [
    "df1.columns"
   ]
  },
  {
   "cell_type": "code",
   "execution_count": 1,
   "metadata": {},
   "outputs": [],
   "source": [
    "all_users = [[\"hannah\", \"Jan\"],[\"liz\", \"Jan\"], [\"liz\", \"Jan\"], [\"rach\", \"Aug\"], [\"sarah\", \"Jun\"], [\"mikey\", \"May\"]]"
   ]
  },
  {
   "cell_type": "code",
   "execution_count": 2,
   "metadata": {},
   "outputs": [
    {
     "name": "stdout",
     "output_type": "stream",
     "text": [
      "['hannah', 'liz', 'liz']\n"
     ]
    }
   ],
   "source": [
    "month_users = []\n",
    "for index in range(0,len(all_users)):\n",
    "    if all_users[index][1] == \"Jan\":\n",
    "        month_users.append(all_users[index][0])\n",
    "        all_users[index][1] = \"Used\"\n",
    "print(month_users)"
   ]
  },
  {
   "cell_type": "code",
   "execution_count": 3,
   "metadata": {},
   "outputs": [
    {
     "name": "stdout",
     "output_type": "stream",
     "text": [
      "{'hannah', 'liz'}\n",
      "the amount of unique users: 2\n"
     ]
    }
   ],
   "source": [
    "unique = set(month_users)\n",
    "print(unique)\n",
    "print(\"the amount of unique users: \" + str(len(unique)))"
   ]
  },
  {
   "cell_type": "code",
   "execution_count": 4,
   "metadata": {},
   "outputs": [
    {
     "name": "stdout",
     "output_type": "stream",
     "text": [
      "There are 3 users remaining to sort\n"
     ]
    }
   ],
   "source": [
    "print(\"There are \" + str(len(all_users)-len(month_users))+ \" users remaining to sort\")"
   ]
  },
  {
   "cell_type": "code",
   "execution_count": null,
   "metadata": {},
   "outputs": [],
   "source": []
  }
 ],
 "metadata": {
  "kernelspec": {
   "display_name": "Python 3",
   "language": "python",
   "name": "python3"
  },
  "language_info": {
   "codemirror_mode": {
    "name": "ipython",
    "version": 3
   },
   "file_extension": ".py",
   "mimetype": "text/x-python",
   "name": "python",
   "nbconvert_exporter": "python",
   "pygments_lexer": "ipython3",
   "version": "3.6.4"
  }
 },
 "nbformat": 4,
 "nbformat_minor": 2
}

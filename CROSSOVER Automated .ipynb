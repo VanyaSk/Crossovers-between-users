{
 "cells": [
  {
   "cell_type": "code",
   "execution_count": null,
   "metadata": {},
   "outputs": [],
   "source": [
    "import pandas as pd\n",
    "import re\n",
    "import numpy as np"
   ]
  },
  {
   "cell_type": "code",
   "execution_count": null,
   "metadata": {},
   "outputs": [],
   "source": [
    "babo_bot = pd.read_csv('C:\\\\Users\\\\iskorokhod\\\\Downloads\\\\Uniqueposters.csv')"
   ]
  },
  {
   "cell_type": "code",
   "execution_count": null,
   "metadata": {},
   "outputs": [],
   "source": [
    "babyganics = pd.read_csv('C:\\\\Users\\\\iskorokhod\\\\Downloads\\\\Uniqueposters (1).csv')"
   ]
  },
  {
   "cell_type": "code",
   "execution_count": null,
   "metadata": {},
   "outputs": [],
   "source": [
    "burts = pd.read_csv('C:\\\\Users\\\\iskorokhod\\\\Downloads\\\\Uniqueposters (2).csv')"
   ]
  },
  {
   "cell_type": "code",
   "execution_count": null,
   "metadata": {},
   "outputs": [],
   "source": [
    "mustela = pd.read_csv('C:\\\\Users\\\\iskorokhod\\\\Downloads\\\\Uniqueposters (3).csv')"
   ]
  },
  {
   "cell_type": "code",
   "execution_count": null,
   "metadata": {},
   "outputs": [],
   "source": [
    "honest = pd.read_csv('C:\\\\Users\\\\iskorokhod\\\\Downloads\\\\Uniqueposters (4).csv')"
   ]
  },
  {
   "cell_type": "code",
   "execution_count": null,
   "metadata": {},
   "outputs": [],
   "source": [
    "accounts = {'babo_bot':babo_bot, 'babyganics':babyganics, 'burts':burts, 'mustela':mustela, 'honest':honest}"
   ]
  },
  {
   "cell_type": "code",
   "execution_count": null,
   "metadata": {},
   "outputs": [],
   "source": [
    "for acc, value in accounts.items():\n",
    "    print('{} - {} users'.format(acc, len(value)))"
   ]
  },
  {
   "cell_type": "code",
   "execution_count": null,
   "metadata": {},
   "outputs": [],
   "source": [
    "for brand in list(accounts.keys()):\n",
    "    print('\\n{} '.format(brand.upper()))\n",
    "    for acc in list(accounts.keys()):\n",
    "        crossover = []\n",
    "        crossover = [name for name in list(accounts[brand]['username']) if name in list(accounts[acc]['username'])]\n",
    "        print('-{} has {} users'.format(acc, len(crossover)))   "
   ]
  },
  {
   "cell_type": "code",
   "execution_count": null,
   "metadata": {},
   "outputs": [],
   "source": [
    "#The same like we have above but with more loops and steps\n",
    "'''for brand in brands:\n",
    "    for acc in list(accounts.keys()):\n",
    "        crossover = []\n",
    "        for name in list(accounts[brand]['username']):\n",
    "            if name in list(accounts[acc]['username']):\n",
    "                crossover.append(name)\n",
    "        print('{}-{} crossover has {} users'.format(brand, acc, len(crossover)))'''"
   ]
  },
  {
   "cell_type": "code",
   "execution_count": null,
   "metadata": {},
   "outputs": [],
   "source": []
  }
 ],
 "metadata": {
  "kernelspec": {
   "display_name": "Python 3",
   "language": "python",
   "name": "python3"
  },
  "language_info": {
   "codemirror_mode": {
    "name": "ipython",
    "version": 3
   },
   "file_extension": ".py",
   "mimetype": "text/x-python",
   "name": "python",
   "nbconvert_exporter": "python",
   "pygments_lexer": "ipython3",
   "version": "3.6.4"
  }
 },
 "nbformat": 4,
 "nbformat_minor": 2
}
